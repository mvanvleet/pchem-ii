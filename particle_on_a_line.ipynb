{
 "cells": [
  {
   "cell_type": "code",
   "execution_count": 1,
   "metadata": {},
   "outputs": [],
   "source": [
    "import matplotlib.pyplot as plt\n",
    "from matplotlib import rc\n",
    "import numpy as np\n",
    "import seaborn\n",
    "from ipywidgets.widgets import interact, Layout\n",
    "\n",
    "rc('font', **{'family': 'serif', 'serif': ['Computer Modern'], 'size': 16})\n",
    "rc('text', usetex=True)"
   ]
  },
  {
   "cell_type": "code",
   "execution_count": 127,
   "metadata": {},
   "outputs": [],
   "source": [
    "xmin = -0.5\n",
    "Lmax = 3\n",
    "def psi(n, x, L):\n",
    "    return np.sqrt(2/L) * np.sin(n * np.pi * x / L)\n",
    "\n",
    "def plt_psi2(n,L,show_psi,show_psi2):\n",
    "    plt.figure(figsize=(15,8))\n",
    "    x = np.linspace(0,L,100)\n",
    "    nmax = int(np.sqrt(Emax)*L)\n",
    "    if show_psi:\n",
    "        plt.plot(x, psi(n,x,L), lw=4, alpha=1,label=r'$$\\Psi_{0} = \\sqrt{{ \\frac{{2}}{{L}} }} \\sin\\left(\\frac{{ {0}\\pi x}}{{L}}\\right)$$'.format(n))\n",
    "    if show_psi2:\n",
    "        plt.plot(x, psi(n,x,L)**2, lw=4, alpha=1,label=r'$$\\Psi^2_{0} = \\frac{{2}}{{L}} \\sin^2\\left(\\frac{{ {0}\\pi x}}{{L}}\\right)$$'.format(n))\n",
    "    plt.axhline(0, 0, L, c='k')\n",
    "    plt.ylim(-2,2)\n",
    "    plt.xlim(xmin,Lmax+1)\n",
    "    plt.axvspan(L, Lmax+1, fc='gray')\n",
    "    plt.axvspan(-Lmax, 0, fc='gray')\n",
    "    plt.xlabel(r'$x$')\n",
    "    plt.legend(loc='upper right')\n",
    "    plt.show()\n"
   ]
  },
  {
   "cell_type": "code",
   "execution_count": 128,
   "metadata": {},
   "outputs": [
    {
     "data": {
      "application/vnd.jupyter.widget-view+json": {
       "model_id": "bddf13eb09b94fc5b3985ba27230122c",
       "version_major": 2,
       "version_minor": 0
      },
      "text/plain": [
       "interactive(children=(IntSlider(value=5, description='n', max=9, min=1), FloatSlider(value=2.0, description='L…"
      ]
     },
     "metadata": {},
     "output_type": "display_data"
    },
    {
     "data": {
      "text/plain": [
       "<function __main__.plt_psi2(n, L, show_psi, show_psi2)>"
      ]
     },
     "execution_count": 128,
     "metadata": {},
     "output_type": "execute_result"
    }
   ],
   "source": [
    "interact(plt_psi2, n=(1,9,1), L=(1, Lmax, 0.1),show_psi=True,show_psi2=False)"
   ]
  },
  {
   "cell_type": "code",
   "execution_count": 133,
   "metadata": {},
   "outputs": [],
   "source": [
    "nmax = 5\n",
    "def plt_energy_levels(L,show_psi):\n",
    "    x = np.linspace(0,L,100)\n",
    "    plt.figure(figsize=(12,10))\n",
    "    for n in range(1,nmax+1):\n",
    "        if show_psi:\n",
    "            plt.plot(x, psi(n,x,L)+(n/L)**2, lw=2, alpha=0.7,label=r'$$\\Psi_{}$$'.format(n))\n",
    "        plt.axhline((n/L)**2, 0, L, c='k')\n",
    "        plt.annotate('$$E_{}$$'.format(n),(0,(n/L)**2+0.1))\n",
    "\n",
    "    plt.ylim(0,8)\n",
    "    plt.xlim(xmin,Lmax+1)\n",
    "    plt.axvspan(L, Lmax+1, fc='gray')\n",
    "    plt.axvspan(-Lmax, 0, fc='gray')\n",
    "    plt.xlabel(r'$x$')\n",
    "    plt.ylabel(r'$E \\;/(h^2/8m)$')\n",
    "    if show_psi:\n",
    "        plt.legend(loc='upper right')\n",
    "    plt.show()"
   ]
  },
  {
   "cell_type": "code",
   "execution_count": 134,
   "metadata": {},
   "outputs": [
    {
     "data": {
      "application/vnd.jupyter.widget-view+json": {
       "model_id": "9325b5c108a44cd589a49cea0886277e",
       "version_major": 2,
       "version_minor": 0
      },
      "text/plain": [
       "interactive(children=(FloatSlider(value=2.0, description='L', max=4.0, min=1.0), Checkbox(value=True, descript…"
      ]
     },
     "metadata": {},
     "output_type": "display_data"
    },
    {
     "data": {
      "text/plain": [
       "<function __main__.plt_energy_levels(L, show_psi)>"
      ]
     },
     "execution_count": 134,
     "metadata": {},
     "output_type": "execute_result"
    }
   ],
   "source": [
    "interact(plt_energy_levels, L=(1, 4, .1),show_psi=True)"
   ]
  },
  {
   "cell_type": "code",
   "execution_count": null,
   "metadata": {},
   "outputs": [],
   "source": []
  }
 ],
 "metadata": {
  "kernelspec": {
   "display_name": "Python 3",
   "language": "python",
   "name": "python3"
  },
  "language_info": {
   "codemirror_mode": {
    "name": "ipython",
    "version": 3
   },
   "file_extension": ".py",
   "mimetype": "text/x-python",
   "name": "python",
   "nbconvert_exporter": "python",
   "pygments_lexer": "ipython3",
   "version": "3.7.6"
  }
 },
 "nbformat": 4,
 "nbformat_minor": 4
}
